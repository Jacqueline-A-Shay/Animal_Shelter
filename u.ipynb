{
 "cells": [
  {
   "cell_type": "code",
   "execution_count": 25,
   "metadata": {},
   "outputs": [],
   "source": [
    "import pandas as pd\n",
    "import numpy as np\n",
    "import matplotlib.pyplot as plt\n",
    "%matplotlib inline\n",
    "import seaborn as sns\n",
    "sns.set(style=\"whitegrid\")\n",
    "import prepare"
   ]
  },
  {
   "cell_type": "code",
   "execution_count": 2,
   "metadata": {},
   "outputs": [],
   "source": [
    "#pd.set_option('display.max_rows', 111753)"
   ]
  },
  {
   "cell_type": "markdown",
   "metadata": {},
   "source": [
    "# Data Acquisition"
   ]
  },
  {
   "cell_type": "code",
   "execution_count": 54,
   "metadata": {},
   "outputs": [
    {
     "data": {
      "text/html": [
       "<div>\n",
       "<style scoped>\n",
       "    .dataframe tbody tr th:only-of-type {\n",
       "        vertical-align: middle;\n",
       "    }\n",
       "\n",
       "    .dataframe tbody tr th {\n",
       "        vertical-align: top;\n",
       "    }\n",
       "\n",
       "    .dataframe thead th {\n",
       "        text-align: right;\n",
       "    }\n",
       "</style>\n",
       "<table border=\"1\" class=\"dataframe\">\n",
       "  <thead>\n",
       "    <tr style=\"text-align: right;\">\n",
       "      <th></th>\n",
       "      <th>Animal ID</th>\n",
       "      <th>Name</th>\n",
       "      <th>DateTime</th>\n",
       "      <th>MonthYear</th>\n",
       "      <th>Date of Birth</th>\n",
       "      <th>Outcome Type</th>\n",
       "      <th>Outcome Subtype</th>\n",
       "      <th>Animal Type</th>\n",
       "      <th>Sex upon Outcome</th>\n",
       "      <th>Age upon Outcome</th>\n",
       "      <th>Breed</th>\n",
       "      <th>Color</th>\n",
       "    </tr>\n",
       "  </thead>\n",
       "  <tbody>\n",
       "    <tr>\n",
       "      <th>0</th>\n",
       "      <td>A720371</td>\n",
       "      <td>Moose</td>\n",
       "      <td>02/13/2016 05:59:00 PM</td>\n",
       "      <td>02/13/2016 05:59:00 PM</td>\n",
       "      <td>10/08/2015</td>\n",
       "      <td>Adoption</td>\n",
       "      <td>NaN</td>\n",
       "      <td>Dog</td>\n",
       "      <td>Neutered Male</td>\n",
       "      <td>4 months</td>\n",
       "      <td>Anatol Shepherd/Labrador Retriever</td>\n",
       "      <td>Buff</td>\n",
       "    </tr>\n",
       "    <tr>\n",
       "      <th>1</th>\n",
       "      <td>A674754</td>\n",
       "      <td>NaN</td>\n",
       "      <td>03/18/2014 11:47:00 AM</td>\n",
       "      <td>03/18/2014 11:47:00 AM</td>\n",
       "      <td>03/12/2014</td>\n",
       "      <td>Transfer</td>\n",
       "      <td>Partner</td>\n",
       "      <td>Cat</td>\n",
       "      <td>Intact Male</td>\n",
       "      <td>6 days</td>\n",
       "      <td>Domestic Shorthair Mix</td>\n",
       "      <td>Orange Tabby</td>\n",
       "    </tr>\n",
       "    <tr>\n",
       "      <th>2</th>\n",
       "      <td>A689724</td>\n",
       "      <td>*Donatello</td>\n",
       "      <td>10/18/2014 06:52:00 PM</td>\n",
       "      <td>10/18/2014 06:52:00 PM</td>\n",
       "      <td>08/01/2014</td>\n",
       "      <td>Adoption</td>\n",
       "      <td>NaN</td>\n",
       "      <td>Cat</td>\n",
       "      <td>Neutered Male</td>\n",
       "      <td>2 months</td>\n",
       "      <td>Domestic Shorthair Mix</td>\n",
       "      <td>Black</td>\n",
       "    </tr>\n",
       "    <tr>\n",
       "      <th>3</th>\n",
       "      <td>A680969</td>\n",
       "      <td>*Zeus</td>\n",
       "      <td>08/05/2014 04:59:00 PM</td>\n",
       "      <td>08/05/2014 04:59:00 PM</td>\n",
       "      <td>06/03/2014</td>\n",
       "      <td>Adoption</td>\n",
       "      <td>NaN</td>\n",
       "      <td>Cat</td>\n",
       "      <td>Neutered Male</td>\n",
       "      <td>2 months</td>\n",
       "      <td>Domestic Shorthair Mix</td>\n",
       "      <td>White/Orange Tabby</td>\n",
       "    </tr>\n",
       "    <tr>\n",
       "      <th>4</th>\n",
       "      <td>A684617</td>\n",
       "      <td>NaN</td>\n",
       "      <td>07/27/2014 09:00:00 AM</td>\n",
       "      <td>07/27/2014 09:00:00 AM</td>\n",
       "      <td>07/26/2012</td>\n",
       "      <td>Transfer</td>\n",
       "      <td>SCRP</td>\n",
       "      <td>Cat</td>\n",
       "      <td>Intact Female</td>\n",
       "      <td>2 years</td>\n",
       "      <td>Domestic Shorthair Mix</td>\n",
       "      <td>Black</td>\n",
       "    </tr>\n",
       "  </tbody>\n",
       "</table>\n",
       "</div>"
      ],
      "text/plain": [
       "  Animal ID        Name                DateTime               MonthYear  \\\n",
       "0   A720371       Moose  02/13/2016 05:59:00 PM  02/13/2016 05:59:00 PM   \n",
       "1   A674754         NaN  03/18/2014 11:47:00 AM  03/18/2014 11:47:00 AM   \n",
       "2   A689724  *Donatello  10/18/2014 06:52:00 PM  10/18/2014 06:52:00 PM   \n",
       "3   A680969       *Zeus  08/05/2014 04:59:00 PM  08/05/2014 04:59:00 PM   \n",
       "4   A684617         NaN  07/27/2014 09:00:00 AM  07/27/2014 09:00:00 AM   \n",
       "\n",
       "  Date of Birth Outcome Type Outcome Subtype Animal Type Sex upon Outcome  \\\n",
       "0    10/08/2015     Adoption             NaN         Dog    Neutered Male   \n",
       "1    03/12/2014     Transfer         Partner         Cat      Intact Male   \n",
       "2    08/01/2014     Adoption             NaN         Cat    Neutered Male   \n",
       "3    06/03/2014     Adoption             NaN         Cat    Neutered Male   \n",
       "4    07/26/2012     Transfer            SCRP         Cat    Intact Female   \n",
       "\n",
       "  Age upon Outcome                               Breed               Color  \n",
       "0         4 months  Anatol Shepherd/Labrador Retriever                Buff  \n",
       "1           6 days              Domestic Shorthair Mix        Orange Tabby  \n",
       "2         2 months              Domestic Shorthair Mix               Black  \n",
       "3         2 months              Domestic Shorthair Mix  White/Orange Tabby  \n",
       "4          2 years              Domestic Shorthair Mix               Black  "
      ]
     },
     "execution_count": 54,
     "metadata": {},
     "output_type": "execute_result"
    }
   ],
   "source": [
    "df = pd.read_csv('Austin_Animal_Center_Outcomes.csv')\n",
    "df.head()"
   ]
  },
  {
   "cell_type": "code",
   "execution_count": 46,
   "metadata": {},
   "outputs": [
    {
     "data": {
      "text/plain": [
       "(111753, 12)"
      ]
     },
     "execution_count": 46,
     "metadata": {},
     "output_type": "execute_result"
    }
   ],
   "source": [
    "# peek at the df dimension\n",
    "df.shape"
   ]
  },
  {
   "cell_type": "code",
   "execution_count": 55,
   "metadata": {},
   "outputs": [
    {
     "data": {
      "text/html": [
       "<div>\n",
       "<style scoped>\n",
       "    .dataframe tbody tr th:only-of-type {\n",
       "        vertical-align: middle;\n",
       "    }\n",
       "\n",
       "    .dataframe tbody tr th {\n",
       "        vertical-align: top;\n",
       "    }\n",
       "\n",
       "    .dataframe thead th {\n",
       "        text-align: right;\n",
       "    }\n",
       "</style>\n",
       "<table border=\"1\" class=\"dataframe\">\n",
       "  <thead>\n",
       "    <tr style=\"text-align: right;\">\n",
       "      <th></th>\n",
       "      <th>0</th>\n",
       "      <th>1</th>\n",
       "      <th>2</th>\n",
       "      <th>3</th>\n",
       "      <th>4</th>\n",
       "    </tr>\n",
       "  </thead>\n",
       "  <tbody>\n",
       "    <tr>\n",
       "      <th>0</th>\n",
       "      <td>Name</td>\n",
       "      <td>Outcome Type</td>\n",
       "      <td>Outcome Subtype</td>\n",
       "      <td>Sex upon Outcome</td>\n",
       "      <td>Age upon Outcome</td>\n",
       "    </tr>\n",
       "    <tr>\n",
       "      <th>0</th>\n",
       "      <td>35244</td>\n",
       "      <td>8</td>\n",
       "      <td>60878</td>\n",
       "      <td>4</td>\n",
       "      <td>36</td>\n",
       "    </tr>\n",
       "  </tbody>\n",
       "</table>\n",
       "</div>"
      ],
      "text/plain": [
       "       0             1                2                 3                 4\n",
       "0   Name  Outcome Type  Outcome Subtype  Sex upon Outcome  Age upon Outcome\n",
       "0  35244             8            60878                 4                36"
      ]
     },
     "execution_count": 55,
     "metadata": {},
     "output_type": "execute_result"
    }
   ],
   "source": [
    "# list missing value by col\n",
    "# need to decide what to do\n",
    "prepare.report_col_with_null_df(df)"
   ]
  },
  {
   "cell_type": "code",
   "execution_count": 48,
   "metadata": {},
   "outputs": [
    {
     "data": {
      "text/html": [
       "<div>\n",
       "<style scoped>\n",
       "    .dataframe tbody tr th:only-of-type {\n",
       "        vertical-align: middle;\n",
       "    }\n",
       "\n",
       "    .dataframe tbody tr th {\n",
       "        vertical-align: top;\n",
       "    }\n",
       "\n",
       "    .dataframe thead th {\n",
       "        text-align: right;\n",
       "    }\n",
       "</style>\n",
       "<table border=\"1\" class=\"dataframe\">\n",
       "  <thead>\n",
       "    <tr style=\"text-align: right;\">\n",
       "      <th></th>\n",
       "      <th>Animal ID</th>\n",
       "      <th>Name</th>\n",
       "      <th>DateTime</th>\n",
       "      <th>MonthYear</th>\n",
       "      <th>Date of Birth</th>\n",
       "      <th>Outcome Type</th>\n",
       "      <th>Outcome Subtype</th>\n",
       "      <th>Animal Type</th>\n",
       "      <th>Sex upon Outcome</th>\n",
       "      <th>Age upon Outcome</th>\n",
       "      <th>Breed</th>\n",
       "      <th>Color</th>\n",
       "    </tr>\n",
       "  </thead>\n",
       "  <tbody>\n",
       "    <tr>\n",
       "      <th>0</th>\n",
       "      <td>0.0</td>\n",
       "      <td>0.32</td>\n",
       "      <td>0.0</td>\n",
       "      <td>0.0</td>\n",
       "      <td>0.0</td>\n",
       "      <td>0.0</td>\n",
       "      <td>0.54</td>\n",
       "      <td>0.0</td>\n",
       "      <td>0.0</td>\n",
       "      <td>0.0</td>\n",
       "      <td>0.0</td>\n",
       "      <td>0.0</td>\n",
       "    </tr>\n",
       "  </tbody>\n",
       "</table>\n",
       "</div>"
      ],
      "text/plain": [
       "   Animal ID  Name  DateTime  MonthYear  Date of Birth  Outcome Type  \\\n",
       "0        0.0  0.32       0.0        0.0            0.0           0.0   \n",
       "\n",
       "   Outcome Subtype  Animal Type  Sex upon Outcome  Age upon Outcome  Breed  \\\n",
       "0             0.54          0.0               0.0               0.0    0.0   \n",
       "\n",
       "   Color  \n",
       "0    0.0  "
      ]
     },
     "execution_count": 48,
     "metadata": {},
     "output_type": "execute_result"
    }
   ],
   "source": [
    "pd.DataFrame(df.apply(lambda x: round(sum(x.isnull()/len(df)),2))).T"
   ]
  },
  {
   "cell_type": "markdown",
   "metadata": {},
   "source": [
    "# Conludsion for Initial observation\n",
    "- Overall, seems like this dataset is relatively complete\n",
    "- Name & Outcome Subtypes, missin a large portion of data\n",
    ">\n",
    "- Initial run, might just completely ignore name and outcome subtype, but I have an hypothesis that name might have a bit of inflence on outcome.  For example if a more human like name (Jackie?) versus something not so human (Spotty?), could it be a factor for adoption outcome?\n",
    "- or if there's a difference between having name or no name?\n",
    ">\n",
    "- Before jumping to the conclusion and completely remove the column - Outcome Subtype, want to double check how does it differ from Outcome Type."
   ]
  },
  {
   "cell_type": "code",
   "execution_count": 7,
   "metadata": {},
   "outputs": [
    {
     "name": "stdout",
     "output_type": "stream",
     "text": [
      "<class 'pandas.core.frame.DataFrame'>\n",
      "RangeIndex: 111753 entries, 0 to 111752\n",
      "Data columns (total 12 columns):\n",
      "Animal ID           111753 non-null object\n",
      "Name                76509 non-null object\n",
      "DateTime            111753 non-null object\n",
      "MonthYear           111753 non-null object\n",
      "Date of Birth       111753 non-null object\n",
      "Outcome Type        111745 non-null object\n",
      "Outcome Subtype     50875 non-null object\n",
      "Animal Type         111753 non-null object\n",
      "Sex upon Outcome    111749 non-null object\n",
      "Age upon Outcome    111717 non-null object\n",
      "Breed               111753 non-null object\n",
      "Color               111753 non-null object\n",
      "dtypes: object(12)\n",
      "memory usage: 10.2+ MB\n"
     ]
    }
   ],
   "source": [
    "# notes:\n",
    "\n",
    "# all columns are object types\n",
    "# MonthYear seemed to be same with DateTime, may drop the col\n",
    "# animal type maybe just parse dog and cat into 2 df and drop the other species for this analysis\n",
    "\n",
    "# Derive age from DOB may be more useful?\n",
    "# age upon outcome might be used instead of calculating age from DOB\n",
    "# DOB/ age, age upon outcome, sex, breed, color might be the most valuable for prediction\n",
    "df.info()"
   ]
  },
  {
   "cell_type": "code",
   "execution_count": 49,
   "metadata": {},
   "outputs": [
    {
     "data": {
      "text/plain": [
       "1.0"
      ]
     },
     "execution_count": 49,
     "metadata": {},
     "output_type": "execute_result"
    }
   ],
   "source": [
    "# double check if DateTime & MonthYear columns are identical\n",
    "# Yes, so we can safely remove MonthYear\n",
    "(df[\"DateTime\"] == df[\"MonthYear\"]).mean()"
   ]
  },
  {
   "cell_type": "code",
   "execution_count": 9,
   "metadata": {},
   "outputs": [
    {
     "name": "stdout",
     "output_type": "stream",
     "text": [
      "\n",
      "What does 'Outcome Type' column tell us?\n",
      "\n",
      "['Adoption' 'Transfer' 'Return to Owner' 'Euthanasia' 'Rto-Adopt' 'Died'\n",
      " 'Disposal' 'Missing' 'Relocate' nan]\n",
      "-------------------------------------------\n",
      "      \n",
      "How does 'Outcome Subtype' Differ?\n",
      "\n",
      "[nan 'Partner' 'SCRP' 'Underage' 'Suffering' 'Rabies Risk' 'Offsite' 'Snr'\n",
      " 'Foster' 'Aggressive' 'Medical' 'In Kennel' 'Enroute' 'In Foster'\n",
      " 'Behavior' 'Possible Theft' 'At Vet' 'In Surgery' 'Field'\n",
      " 'Court/Investigation' 'Barn' 'Prc' 'Customer S']\n",
      "\n"
     ]
    }
   ],
   "source": [
    "# compare information in the 2 columns, outcome type and outcome subtype \n",
    "# seems like for the first iteration, we can safely remove outcome subtype\n",
    "# for one it does miss a good portion of data\n",
    "# for second, the information doesn't seem particularly helpful\n",
    "\n",
    "print(f\"\"\"\n",
    "What does 'Outcome Type' column tell us?\n",
    "\n",
    "{df['Outcome Type'].unique()}\n",
    "-------------------------------------------\n",
    "      \n",
    "How does 'Outcome Subtype' Differ?\n",
    "\n",
    "{df['Outcome Subtype'].unique()}\n",
    "\"\"\")"
   ]
  },
  {
   "cell_type": "code",
   "execution_count": null,
   "metadata": {},
   "outputs": [],
   "source": []
  },
  {
   "cell_type": "markdown",
   "metadata": {},
   "source": [
    "**Decision for handling missing data**\n",
    "- Name: keep for exploration, does name cause any difference?\n",
    "\n",
    "- Outcome Type: **dropna** we can afford dropping the 8 missing value\n",
    "\n",
    "- Outcome Subtype: seems like we can temperarily just **drop column**\n",
    "\n",
    "- Sex upon outcome: **dropna** we can afford dropping the 4 missing value\n",
    "> **feature engineer** extract only sex, and drop the other parts in the col\n",
    "\n",
    "- Age upon outcome: **dropna feature engineer** convert into year/int"
   ]
  },
  {
   "cell_type": "code",
   "execution_count": 56,
   "metadata": {},
   "outputs": [],
   "source": [
    "# this subsetting contain all info in 'Name' \n",
    "# so we could explore the relationship between name and adoption within same species\n",
    "\n",
    "cat = df[df['Animal Type'] == 'Cat']\n",
    "dog = df[df['Animal Type'] == 'Dog']"
   ]
  },
  {
   "cell_type": "code",
   "execution_count": 57,
   "metadata": {},
   "outputs": [],
   "source": [
    "# drop unnecessary columns or columns with too many missing value\n",
    "\n",
    "df.drop(columns = ['Outcome Subtype', 'Animal ID', 'MonthYear', 'Date of Birth'], inplace = True)"
   ]
  },
  {
   "cell_type": "code",
   "execution_count": 61,
   "metadata": {},
   "outputs": [],
   "source": [
    "# drop the missing values\n",
    "# df.dropna(inplace = True)\n",
    "df.dropna(subset=['Outcome Type', 'Sex upon Outcome','Age upon Outcome'], inplace = True)"
   ]
  },
  {
   "cell_type": "code",
   "execution_count": 64,
   "metadata": {},
   "outputs": [],
   "source": [
    "# rename the columns for easier typing\n",
    "\n",
    "df.rename(columns = ({'DateTime':'date_time', \n",
    "                      'Outcome Type':'outcome', \n",
    "                      'Animal Type': 'species', \n",
    "                      'Sex upon Outcome': 'sex',\n",
    "                      'Age upon Outcome': 'age_destiny', \n",
    "                      'Breed': 'breed', \n",
    "                      'Color': 'color',\n",
    "                      'Name': 'name'}), inplace = True)"
   ]
  },
  {
   "cell_type": "code",
   "execution_count": 14,
   "metadata": {},
   "outputs": [
    {
     "data": {
      "text/plain": [
       "<seaborn.axisgrid.FacetGrid at 0x10f067c18>"
      ]
     },
     "execution_count": 14,
     "metadata": {},
     "output_type": "execute_result"
    },
    {
     "data": {
      "text/plain": [
       "<Figure size 1440x360 with 0 Axes>"
      ]
     },
     "metadata": {},
     "output_type": "display_data"
    },
    {
     "data": {
      "image/png": "[encoded data removed]",
      "text/plain": [
       "<Figure size 360x360 with 1 Axes>"
      ]
     },
     "metadata": {},
     "output_type": "display_data"
    }
   ],
   "source": [
    "# peek the animal counts in different outcome\n",
    "plt.figure(figsize=(20,5))\n",
    "sns.catplot(y=\"outcome\", kind=\"count\",\n",
    "            palette=\"pastel\", edgecolor=\".6\",\n",
    "            data=df)"
   ]
  },
  {
   "cell_type": "markdown",
   "metadata": {},
   "source": [
    "**Begin feature engineering**\n",
    "\n",
    "1. Sex upon Outcome\t\n",
    "> extract only sex, and drop the other parts in the col\n",
    "\n",
    "2. Age upon Outcome\n",
    "> convert into year/int"
   ]
  },
  {
   "cell_type": "code",
   "execution_count": 15,
   "metadata": {},
   "outputs": [
    {
     "data": {
      "text/plain": [
       "array(['Neutered Male', 'Spayed Female', 'Intact Male', 'Intact Female',\n",
       "       'Unknown'], dtype=object)"
      ]
     },
     "execution_count": 15,
     "metadata": {},
     "output_type": "execute_result"
    }
   ],
   "source": [
    "# take a look at the different data formats\n",
    "# easy enough, just mask the raws containing 'Male' or 'Female' \n",
    "# reassign as only the sex perspectively to the original col\n",
    "df.sex.unique()"
   ]
  },
  {
   "cell_type": "code",
   "execution_count": 16,
   "metadata": {},
   "outputs": [
    {
     "data": {
      "text/plain": [
       "array(['Adoption', 'Return to Owner', 'Transfer', 'Rto-Adopt',\n",
       "       'Euthanasia', 'Died', 'Missing', 'Disposal'], dtype=object)"
      ]
     },
     "execution_count": 16,
     "metadata": {},
     "output_type": "execute_result"
    }
   ],
   "source": [
    "df.outcome.unique()"
   ]
  },
  {
   "cell_type": "code",
   "execution_count": 17,
   "metadata": {},
   "outputs": [
    {
     "data": {
      "text/plain": [
       "<seaborn.axisgrid.FacetGrid at 0x11fe22ac8>"
      ]
     },
     "execution_count": 17,
     "metadata": {},
     "output_type": "execute_result"
    },
    {
     "data": {
      "text/plain": [
       "<Figure size 2880x2880 with 0 Axes>"
      ]
     },
     "metadata": {},
     "output_type": "display_data"
    },
    {
     "data": {
      "image/png": "[encoded data removed]",
      "text/plain": [
       "<Figure size 476.725x360 with 1 Axes>"
      ]
     },
     "metadata": {},
     "output_type": "display_data"
    }
   ],
   "source": [
    "# explore if there's a difference between neutered/ intact\n",
    "plt.figure(figsize=(40,40))\n",
    "sns.catplot(y=\"outcome\", hue=\"sex\", kind=\"count\",\n",
    "            palette=\"pastel\", edgecolor=\".6\",\n",
    "            data=df,\n",
    "            order = ['Adoption', 'Transfer', 'Return to Owner', 'Euthanasia','Rto-Adopt', 'Died', 'Disposal', 'Missing', 'Relocate'],\n",
    "            hue_order = ['Neutered Male', 'Spayed Female', 'Intact Male', 'Intact Female','Unknown'])"
   ]
  },
  {
   "cell_type": "code",
   "execution_count": 18,
   "metadata": {},
   "outputs": [
    {
     "data": {
      "text/plain": [
       "<seaborn.axisgrid.FacetGrid at 0x1207ae240>"
      ]
     },
     "execution_count": 18,
     "metadata": {},
     "output_type": "execute_result"
    },
    {
     "data": {
      "text/plain": [
       "<Figure size 1440x720 with 0 Axes>"
      ]
     },
     "metadata": {},
     "output_type": "display_data"
    },
    {
     "data": {
      "image/png": "[encoded data removed]",
      "text/plain": [
       "<Figure size 476.725x360 with 1 Axes>"
      ]
     },
     "metadata": {},
     "output_type": "display_data"
    }
   ],
   "source": [
    "# cat-only: explore if there's a difference between neutered/ spayed & intact \n",
    "\n",
    "# Adopted ones, neutered/spayed definitely much more than intact\n",
    "# higher % of intact cats get transfered\n",
    "# WHAT DOES TRANSFER REALLY MEANS???\n",
    "\n",
    "# Look at underlying info: intact vs non-intact\n",
    "\n",
    "# compared with dogs, there's is a higher proportion of cats get transfered\n",
    "# dogs shows higher return to owner rate\n",
    "plt.figure(figsize=(20,10))\n",
    "sns.catplot(y=\"Outcome Type\", hue=\"Sex upon Outcome\", kind=\"count\",\n",
    "            palette=\"muted\", edgecolor=\".6\",\n",
    "            data=cat,\n",
    "            order = ['Adoption', 'Transfer', 'Return to Owner', 'Euthanasia','Rto-Adopt', 'Died', 'Disposal', 'Missing', 'Relocate'],\n",
    "            hue_order = ['Neutered Male', 'Spayed Female', 'Intact Male', 'Intact Female','Unknown'])"
   ]
  },
  {
   "cell_type": "code",
   "execution_count": 19,
   "metadata": {},
   "outputs": [
    {
     "data": {
      "text/plain": [
       "<seaborn.axisgrid.FacetGrid at 0x121d0d710>"
      ]
     },
     "execution_count": 19,
     "metadata": {},
     "output_type": "execute_result"
    },
    {
     "data": {
      "text/plain": [
       "<Figure size 1440x720 with 0 Axes>"
      ]
     },
     "metadata": {},
     "output_type": "display_data"
    },
    {
     "data": {
      "image/png": "[encoded data removed]",
      "text/plain": [
       "<Figure size 476.725x360 with 1 Axes>"
      ]
     },
     "metadata": {},
     "output_type": "display_data"
    }
   ],
   "source": [
    "# dog-only: explore if there's a difference between neutered/ spayed & intact\n",
    "plt.figure(figsize=(20,10))\n",
    "sns.catplot(y=\"Outcome Type\", hue=\"Sex upon Outcome\", kind=\"count\",\n",
    "            palette=\"dark\", edgecolor=\".6\",\n",
    "            data=dog,\n",
    "            order = ['Adoption', 'Transfer', 'Return to Owner', 'Euthanasia','Rto-Adopt', 'Died', 'Disposal', 'Missing', 'Relocate'],\n",
    "            hue_order = ['Neutered Male', 'Spayed Female', 'Intact Male', 'Intact Female','Unknown'])"
   ]
  },
  {
   "cell_type": "code",
   "execution_count": 65,
   "metadata": {},
   "outputs": [],
   "source": [
    "df['sex_transformed'] = df.sex\n",
    "df.loc[df.sex_transformed.str.contains('Male'), 'sex_transformed'] = 'Male'\n",
    "df.loc[df.sex_transformed.str.contains('Female'),'sex_transformed'] = 'Female'"
   ]
  },
  {
   "cell_type": "code",
   "execution_count": 21,
   "metadata": {},
   "outputs": [],
   "source": [
    "# handle Age upon Outcome\n",
    "# use \"day\" as unit for all results"
   ]
  },
  {
   "cell_type": "code",
   "execution_count": 66,
   "metadata": {},
   "outputs": [],
   "source": [
    "# split the numbers and units into 2 columns for unit conversion\n",
    "df['age_number'], df['age_unit'] = zip(*df.age_destiny.str.split(' '))"
   ]
  },
  {
   "cell_type": "code",
   "execution_count": 67,
   "metadata": {},
   "outputs": [],
   "source": [
    "# convert data type for downstream calculation\n",
    "df.age_number = df.age_number.astype(int)"
   ]
  },
  {
   "cell_type": "code",
   "execution_count": null,
   "metadata": {},
   "outputs": [],
   "source": []
  },
  {
   "cell_type": "code",
   "execution_count": 68,
   "metadata": {},
   "outputs": [],
   "source": [
    "x = df.age_unit\n",
    "# set conditions\n",
    "# strings contain week, month, year need conversion\n",
    "# strings contain day remain the same\n",
    "condlist = ([\n",
    "    x.str.contains('week'),\n",
    "    x.str.contains('month'),\n",
    "    x.str.contains('year'),\n",
    "    x.str.contains('day')\n",
    "            ])\n",
    "# when meeting the quiteria, do these math\n",
    "choicelist = (df.age_number * 7,\n",
    "              df.age_number * 30.5, \n",
    "              df.age_number * 365,\n",
    "              df.age_number)\n",
    "# store info back into df after conversion\n",
    "df['age_transformed'] = np.select(condlist, choicelist)"
   ]
  },
  {
   "cell_type": "code",
   "execution_count": 69,
   "metadata": {},
   "outputs": [
    {
     "data": {
      "text/html": [
       "<div>\n",
       "<style scoped>\n",
       "    .dataframe tbody tr th:only-of-type {\n",
       "        vertical-align: middle;\n",
       "    }\n",
       "\n",
       "    .dataframe tbody tr th {\n",
       "        vertical-align: top;\n",
       "    }\n",
       "\n",
       "    .dataframe thead th {\n",
       "        text-align: right;\n",
       "    }\n",
       "</style>\n",
       "<table border=\"1\" class=\"dataframe\">\n",
       "  <thead>\n",
       "    <tr style=\"text-align: right;\">\n",
       "      <th></th>\n",
       "      <th>name</th>\n",
       "      <th>date_time</th>\n",
       "      <th>outcome</th>\n",
       "      <th>species</th>\n",
       "      <th>sex</th>\n",
       "      <th>age_destiny</th>\n",
       "      <th>breed</th>\n",
       "      <th>color</th>\n",
       "      <th>sex_transformed</th>\n",
       "      <th>age_number</th>\n",
       "      <th>age_unit</th>\n",
       "      <th>age_transformed</th>\n",
       "    </tr>\n",
       "  </thead>\n",
       "  <tbody>\n",
       "    <tr>\n",
       "      <th>0</th>\n",
       "      <td>Moose</td>\n",
       "      <td>02/13/2016 05:59:00 PM</td>\n",
       "      <td>Adoption</td>\n",
       "      <td>Dog</td>\n",
       "      <td>Neutered Male</td>\n",
       "      <td>4 months</td>\n",
       "      <td>Anatol Shepherd/Labrador Retriever</td>\n",
       "      <td>Buff</td>\n",
       "      <td>Male</td>\n",
       "      <td>4</td>\n",
       "      <td>months</td>\n",
       "      <td>122.0</td>\n",
       "    </tr>\n",
       "    <tr>\n",
       "      <th>1</th>\n",
       "      <td>NaN</td>\n",
       "      <td>03/18/2014 11:47:00 AM</td>\n",
       "      <td>Transfer</td>\n",
       "      <td>Cat</td>\n",
       "      <td>Intact Male</td>\n",
       "      <td>6 days</td>\n",
       "      <td>Domestic Shorthair Mix</td>\n",
       "      <td>Orange Tabby</td>\n",
       "      <td>Male</td>\n",
       "      <td>6</td>\n",
       "      <td>days</td>\n",
       "      <td>6.0</td>\n",
       "    </tr>\n",
       "    <tr>\n",
       "      <th>2</th>\n",
       "      <td>*Donatello</td>\n",
       "      <td>10/18/2014 06:52:00 PM</td>\n",
       "      <td>Adoption</td>\n",
       "      <td>Cat</td>\n",
       "      <td>Neutered Male</td>\n",
       "      <td>2 months</td>\n",
       "      <td>Domestic Shorthair Mix</td>\n",
       "      <td>Black</td>\n",
       "      <td>Male</td>\n",
       "      <td>2</td>\n",
       "      <td>months</td>\n",
       "      <td>61.0</td>\n",
       "    </tr>\n",
       "    <tr>\n",
       "      <th>3</th>\n",
       "      <td>*Zeus</td>\n",
       "      <td>08/05/2014 04:59:00 PM</td>\n",
       "      <td>Adoption</td>\n",
       "      <td>Cat</td>\n",
       "      <td>Neutered Male</td>\n",
       "      <td>2 months</td>\n",
       "      <td>Domestic Shorthair Mix</td>\n",
       "      <td>White/Orange Tabby</td>\n",
       "      <td>Male</td>\n",
       "      <td>2</td>\n",
       "      <td>months</td>\n",
       "      <td>61.0</td>\n",
       "    </tr>\n",
       "    <tr>\n",
       "      <th>4</th>\n",
       "      <td>NaN</td>\n",
       "      <td>07/27/2014 09:00:00 AM</td>\n",
       "      <td>Transfer</td>\n",
       "      <td>Cat</td>\n",
       "      <td>Intact Female</td>\n",
       "      <td>2 years</td>\n",
       "      <td>Domestic Shorthair Mix</td>\n",
       "      <td>Black</td>\n",
       "      <td>Female</td>\n",
       "      <td>2</td>\n",
       "      <td>years</td>\n",
       "      <td>730.0</td>\n",
       "    </tr>\n",
       "  </tbody>\n",
       "</table>\n",
       "</div>"
      ],
      "text/plain": [
       "         name               date_time   outcome species            sex  \\\n",
       "0       Moose  02/13/2016 05:59:00 PM  Adoption     Dog  Neutered Male   \n",
       "1         NaN  03/18/2014 11:47:00 AM  Transfer     Cat    Intact Male   \n",
       "2  *Donatello  10/18/2014 06:52:00 PM  Adoption     Cat  Neutered Male   \n",
       "3       *Zeus  08/05/2014 04:59:00 PM  Adoption     Cat  Neutered Male   \n",
       "4         NaN  07/27/2014 09:00:00 AM  Transfer     Cat  Intact Female   \n",
       "\n",
       "  age_destiny                               breed               color  \\\n",
       "0    4 months  Anatol Shepherd/Labrador Retriever                Buff   \n",
       "1      6 days              Domestic Shorthair Mix        Orange Tabby   \n",
       "2    2 months              Domestic Shorthair Mix               Black   \n",
       "3    2 months              Domestic Shorthair Mix  White/Orange Tabby   \n",
       "4     2 years              Domestic Shorthair Mix               Black   \n",
       "\n",
       "  sex_transformed  age_number age_unit  age_transformed  \n",
       "0            Male           4   months            122.0  \n",
       "1            Male           6     days              6.0  \n",
       "2            Male           2   months             61.0  \n",
       "3            Male           2   months             61.0  \n",
       "4          Female           2    years            730.0  "
      ]
     },
     "execution_count": 69,
     "metadata": {},
     "output_type": "execute_result"
    }
   ],
   "source": [
    "# take a look at df, now we need to drop some columns again\n",
    "df.head(5)"
   ]
  },
  {
   "cell_type": "code",
   "execution_count": 70,
   "metadata": {},
   "outputs": [],
   "source": [
    "df.drop(columns = ['age_number', 'age_unit'], inplace = True)"
   ]
  },
  {
   "cell_type": "code",
   "execution_count": 71,
   "metadata": {},
   "outputs": [],
   "source": [
    "df = df[['date_time', 'name', 'outcome', 'species', 'sex','sex_transformed', 'breed','color', 'age_destiny', 'age_transformed']]"
   ]
  },
  {
   "cell_type": "code",
   "execution_count": 72,
   "metadata": {},
   "outputs": [],
   "source": [
    "from scipy import stats"
   ]
  },
  {
   "cell_type": "code",
   "execution_count": 73,
   "metadata": {},
   "outputs": [],
   "source": [
    "# average age of neutered/spayed vs intact\n",
    "\n",
    "# male\n",
    "intact_male_dog = df[(df.sex.str.contains('Intact')) & (df.sex_transformed == \"Male\") & (df.species == \"Dog\")].age_transformed\n",
    "neutered_male_dog = df[(df.sex.str.contains('Neutered')) & (df.sex_transformed == \"Male\") & (df.species == \"Dog\")].age_transformed\n",
    "# female\n",
    "intact_female_dog = df[(df.sex.str.contains('Intact')) & (df.sex_transformed == \"Female\") & (df.species == \"Dog\")].age_transformed\n",
    "spayed_female_dog = df[(df.sex.str.contains('Spayed')) & (df.sex_transformed == \"Female\") & (df.species == \"Dog\")].age_transformed"
   ]
  },
  {
   "cell_type": "code",
   "execution_count": 74,
   "metadata": {},
   "outputs": [
    {
     "name": "stdout",
     "output_type": "stream",
     "text": [
      "\n",
      "The average age of intact male dogs is: 1023.87\n",
      "The average age of neutered male dogs is: 870.21\n",
      "--\n",
      "The average age of intact female dogs is: 988.06\n",
      "The average age of spayed female dogs is: 808.87\n",
      "\n"
     ]
    }
   ],
   "source": [
    "print(\"\"\"\n",
    "The average age of intact male dogs is: {:.2f}\n",
    "The average age of neutered male dogs is: {:.2f}\n",
    "--\n",
    "The average age of intact female dogs is: {:.2f}\n",
    "The average age of spayed female dogs is: {:.2f}\n",
    "\"\"\"\n",
    "      .format(neutered_male_dog.mean(), intact_male_dog.mean(), \n",
    "              spayed_female_dog.mean(), intact_female_dog.mean()))"
   ]
  },
  {
   "cell_type": "code",
   "execution_count": 75,
   "metadata": {},
   "outputs": [],
   "source": [
    "tstat, p = stats.ttest_ind(neutered_male_dog, intact_male_dog)\n",
    "tstatf, pf = stats.ttest_ind(spayed_female_dog, intact_female_dog)"
   ]
  },
  {
   "cell_type": "code",
   "execution_count": 76,
   "metadata": {},
   "outputs": [
    {
     "name": "stdout",
     "output_type": "stream",
     "text": [
      "\n",
      "(Comparison of the average age of intact versus neutered male dogs:\n",
      "Result: 10.65 with the p-value of 0.00\n",
      "--\n",
      "Comparison of the average age of intact versus spayed female dogs:\n",
      "Result: 11.30 with the p-value of 0.00)\n",
      "\n"
     ]
    }
   ],
   "source": [
    "# not statistically significant\n",
    "# so maybe the difference in neutering/spaying or not is not because of age\n",
    "# may due to not enough HR or $ to neuter/ spay all dogs...\n",
    "# so if increase the neuter/ spay rate of male dogs, \n",
    "# may be possible to increase adoption\n",
    "\n",
    "print(\"\"\"\n",
    "(Comparison of the average age of intact versus neutered male dogs:\n",
    "Result: {:.2f} with the p-value of {:.2f}\n",
    "--\n",
    "Comparison of the average age of intact versus spayed female dogs:\n",
    "Result: {:.2f} with the p-value of {:.2f})\n",
    "\"\"\".format(tstat, p, tstatf, pf))"
   ]
  },
  {
   "cell_type": "code",
   "execution_count": 77,
   "metadata": {},
   "outputs": [],
   "source": [
    "dog_df = df.copy()\n",
    "dog_df = df[(df.species == \"Dog\") & (df.sex_transformed != 'Unknown')]"
   ]
  },
  {
   "cell_type": "code",
   "execution_count": 35,
   "metadata": {},
   "outputs": [
    {
     "data": {
      "text/plain": [
       "<matplotlib.axes._subplots.AxesSubplot at 0x122865908>"
      ]
     },
     "execution_count": 35,
     "metadata": {},
     "output_type": "execute_result"
    },
    {
     "data": {
      "image/png": "[encoded data removed]",
      "text/plain": [
       "<Figure size 1440x720 with 1 Axes>"
      ]
     },
     "metadata": {},
     "output_type": "display_data"
    }
   ],
   "source": [
    "plt.figure(figsize = (20,10))\n",
    "sns.distplot(dog_df.age_transformed)"
   ]
  },
  {
   "cell_type": "code",
   "execution_count": 36,
   "metadata": {
    "scrolled": false
   },
   "outputs": [
    {
     "data": {
      "text/plain": [
       "<matplotlib.axes._subplots.AxesSubplot at 0x12347d080>"
      ]
     },
     "execution_count": 36,
     "metadata": {},
     "output_type": "execute_result"
    },
    {
     "data": {
      "image/png": "[encoded data removed]",
      "text/plain": [
       "<Figure size 1440x720 with 1 Axes>"
      ]
     },
     "metadata": {},
     "output_type": "display_data"
    }
   ],
   "source": [
    "# dog age distribution: \n",
    "# adopted vs others\n",
    "# \n",
    "plt.figure(figsize = (20,10))\n",
    "sns.violinplot(x=\"outcome\", y=\"age_transformed\", hue=\"sex_transformed\",\n",
    "               data=dog_df, palette=\"dark\", edgecolor=\".6\",\n",
    "               order = ['Adoption', 'Transfer', 'Return to Owner', 'Euthanasia','Rto-Adopt', 'Died', 'Disposal', 'Missing', 'Relocate'],\n",
    "               split=True)"
   ]
  },
  {
   "cell_type": "code",
   "execution_count": 78,
   "metadata": {},
   "outputs": [
    {
     "name": "stderr",
     "output_type": "stream",
     "text": [
      "/usr/local/anaconda3/lib/python3.7/site-packages/ipykernel_launcher.py:1: SettingWithCopyWarning: \n",
      "A value is trying to be set on a copy of a slice from a DataFrame.\n",
      "Try using .loc[row_indexer,col_indexer] = value instead\n",
      "\n",
      "See the caveats in the documentation: http://pandas.pydata.org/pandas-docs/stable/user_guide/indexing.html#returning-a-view-versus-a-copy\n",
      "  \"\"\"Entry point for launching an IPython kernel.\n"
     ]
    }
   ],
   "source": [
    "dog_df['encode_outcome'] = dog_df.outcome.apply(lambda x: 'no_adopt' if x!= 'Adoption' else x)"
   ]
  },
  {
   "cell_type": "code",
   "execution_count": 39,
   "metadata": {},
   "outputs": [
    {
     "data": {
      "text/plain": [
       "<matplotlib.axes._subplots.AxesSubplot at 0x12a6320f0>"
      ]
     },
     "execution_count": 39,
     "metadata": {},
     "output_type": "execute_result"
    },
    {
     "data": {
      "image/png": "[encoded data removed]",
      "text/plain": [
       "<Figure size 1440x720 with 1 Axes>"
      ]
     },
     "metadata": {},
     "output_type": "display_data"
    }
   ],
   "source": [
    "# visually, gender is not as big as a factor in adoption of dogs\n",
    "plt.figure(figsize = (20,10))\n",
    "sns.violinplot(x=\"encode_outcome\", y=\"age_transformed\", hue=\"sex_transformed\",\n",
    "               data=dog_df, palette=\"dark\", edgecolor=\".6\",\n",
    "               split=True)"
   ]
  },
  {
   "cell_type": "code",
   "execution_count": 79,
   "metadata": {},
   "outputs": [],
   "source": [
    "# average age of adopted versus not-adopted dogs\n",
    "\n",
    "# male\n",
    "adopted_male_dog = dog_df[(dog_df.encode_outcome == \"Adoption\") & (dog_df.sex_transformed == \"Male\")].age_transformed\n",
    "no_male_dog = dog_df[(dog_df.encode_outcome == \"no_adopt\") & (dog_df.sex_transformed == \"Male\")].age_transformed\n",
    "# female\n",
    "adopted_female_dog = dog_df[(dog_df.encode_outcome == \"Adoption\") & (dog_df.sex_transformed == \"Female\")].age_transformed\n",
    "no_female_dog = dog_df[(dog_df.encode_outcome == \"no_adopt\") & (dog_df.sex_transformed == \"Female\")].age_transformed"
   ]
  },
  {
   "cell_type": "code",
   "execution_count": 80,
   "metadata": {},
   "outputs": [
    {
     "name": "stdout",
     "output_type": "stream",
     "text": [
      "\n",
      "The average age of adopted male dogs is: 725.57\n",
      "The average age of non-adopted male dogs is: 1205.22\n",
      "--\n",
      "The average age of adopted female dogs is: 695.81\n",
      "The average age of non-adopted female dogs is: 1195.45\n",
      "\n"
     ]
    }
   ],
   "source": [
    "print(\"\"\"\n",
    "The average age of adopted male dogs is: {:.2f}\n",
    "The average age of non-adopted male dogs is: {:.2f}\n",
    "--\n",
    "The average age of adopted female dogs is: {:.2f}\n",
    "The average age of non-adopted female dogs is: {:.2f}\n",
    "\"\"\"\n",
    "      .format(adopted_male_dog.mean(), no_male_dog.mean(), \n",
    "              adopted_female_dog.mean(), no_female_dog.mean()))"
   ]
  },
  {
   "cell_type": "code",
   "execution_count": 81,
   "metadata": {},
   "outputs": [],
   "source": [
    "tstat, p = stats.ttest_ind(adopted_male_dog, no_male_dog)\n",
    "tstatf, pf = stats.ttest_ind(adopted_female_dog, no_female_dog)"
   ]
  },
  {
   "cell_type": "code",
   "execution_count": 82,
   "metadata": {},
   "outputs": [
    {
     "name": "stdout",
     "output_type": "stream",
     "text": [
      "\n",
      "(Comparison of the average age of adopted versus not-adopted male dogs:\n",
      "Result: -41.12 with the p-value of 0.00\n",
      "--\n",
      "Comparison of the average age of adopted versus not-adopted female dogs:\n",
      "Result: -39.12 with the p-value of 0.00)\n",
      "\n"
     ]
    }
   ],
   "source": [
    "print(\"\"\"\n",
    "(Comparison of the average age of adopted versus not-adopted male dogs:\n",
    "Result: {:.2f} with the p-value of {:.2f}\n",
    "--\n",
    "Comparison of the average age of adopted versus not-adopted female dogs:\n",
    "Result: {:.2f} with the p-value of {:.2f})\n",
    "\"\"\".format(tstat, p, tstatf, pf))"
   ]
  },
  {
   "cell_type": "code",
   "execution_count": 83,
   "metadata": {},
   "outputs": [],
   "source": [
    "# age after 1700 days, seems like ratio started to change between adopt/ no-adopt\n",
    "all_old = len(dog_df[dog_df.age_transformed > 1642])\n",
    "adopted_old = len(dog_df[(dog_df.age_transformed > 1642) & (dog_df.encode_outcome == \"Adoption\")])\n",
    "no_adopt_old = len(dog_df[(dog_df.age_transformed > 1642) & (dog_df.encode_outcome == \"no_adopt\")])"
   ]
  },
  {
   "cell_type": "code",
   "execution_count": 84,
   "metadata": {},
   "outputs": [
    {
     "name": "stdout",
     "output_type": "stream",
     "text": [
      "\n",
      "Percentage of dogs over 4.5 years old and\n",
      "adopted: 29.09%,\n",
      "not adopted: 70.91%\n",
      "\n"
     ]
    }
   ],
   "source": [
    "print(\"\"\"\n",
    "Percentage of dogs over 4.5 years old and\n",
    "adopted: {:.2f}%,\n",
    "not adopted: {:.2f}%\n",
    "\"\"\".format(100*(adopted_old/all_old), 100*(no_adopt_old/all_old)))"
   ]
  },
  {
   "cell_type": "code",
   "execution_count": null,
   "metadata": {},
   "outputs": [],
   "source": [
    "# write a funcion to guage the true limiting cutoff for age influencing adtoption"
   ]
  },
  {
   "cell_type": "code",
   "execution_count": 85,
   "metadata": {},
   "outputs": [],
   "source": [
    "all_old = len(dog_df[dog_df.age_transformed > 2])\n",
    "adopted_old = len(dog_df[(dog_df.age_transformed > 2) & (dog_df.encode_outcome == \"Adoption\")])\n",
    "cal = adopted_old/all_old"
   ]
  },
  {
   "cell_type": "code",
   "execution_count": 86,
   "metadata": {},
   "outputs": [
    {
     "name": "stdout",
     "output_type": "stream",
     "text": [
      "Age in year 1 and relative adoption rate: 46.88%\n",
      "Age in year 366 and relative adoption rate: 36.49%\n",
      "Age in year 731 and relative adoption rate: 32.15%\n",
      "Age in year 1096 and relative adoption rate: 30.39%\n",
      "Age in year 1461 and relative adoption rate: 29.09%\n",
      "Age in year 1826 and relative adoption rate: 27.30%\n",
      "Age in year 2191 and relative adoption rate: 26.18%\n",
      "Age in year 2556 and relative adoption rate: 25.28%\n",
      "Age in year 2921 and relative adoption rate: 22.51%\n",
      "Age in year 3286 and relative adoption rate: 20.34%\n",
      "Age in year 3651 and relative adoption rate: 17.57%\n",
      "Age in year 4016 and relative adoption rate: 16.09%\n",
      "Age in year 4381 and relative adoption rate: 11.44%\n",
      "Age in year 4746 and relative adoption rate: 8.64%\n",
      "Age in year 5111 and relative adoption rate: 8.81%\n",
      "Age in year 5476 and relative adoption rate: 5.95%\n",
      "Age in year 5841 and relative adoption rate: 5.06%\n",
      "Age in year 6206 and relative adoption rate: 5.00%\n",
      "Age in year 6571 and relative adoption rate: 0.00%\n",
      "The time when adoption rate begin to go downhill...18.00\n"
     ]
    }
   ],
   "source": [
    "age_at_adoption = []\n",
    "adoption_rate = []\n",
    "for age in range(1, (int(df.age_transformed.max()+1)), 365):\n",
    "    all_old = len(dog_df[dog_df.age_transformed > age])\n",
    "    adopted_old = len(dog_df[(dog_df.age_transformed > age) & (dog_df.encode_outcome == \"Adoption\")])\n",
    "    cal = adopted_old/all_old\n",
    "    age_at_adoption.append(int(age/365))\n",
    "    adoption_rate.append(round(cal, 2))\n",
    "    print(\"Age in year {} and relative adoption rate: {:.2f}%\".format(age, cal*100))\n",
    "\n",
    "    if cal <= 0:\n",
    "        print(\"The time when adoption rate begin to go downhill...{:.2f}\".format(age/365))\n",
    "        break\n",
    "    else:\n",
    "        continue"
   ]
  },
  {
   "cell_type": "code",
   "execution_count": 87,
   "metadata": {},
   "outputs": [
    {
     "data": {
      "text/plain": [
       "<matplotlib.axes._subplots.AxesSubplot at 0x12a67fe10>"
      ]
     },
     "execution_count": 87,
     "metadata": {},
     "output_type": "execute_result"
    },
    {
     "data": {
      "image/png": "[encoded data removed]",
      "text/plain": [
       "<Figure size 432x288 with 1 Axes>"
      ]
     },
     "metadata": {},
     "output_type": "display_data"
    }
   ],
   "source": [
    "elbow = pd.DataFrame({'age': age_at_adoption, 'adoption_rate': adoption_rate})\n",
    "sns.lineplot(x=\"age\", y=\"adoption_rate\", data=elbow)"
   ]
  },
  {
   "cell_type": "code",
   "execution_count": 89,
   "metadata": {},
   "outputs": [],
   "source": [
    "# handle names\n",
    "df['has_name'] = df[['name']]\n",
    "df['has_name'] = df.has_name.fillna(value=0)\n",
    "df['has_name'] = df.has_name.apply(lambda x: 1 if x != 0 else x)\n",
    "df['has_name'] = df.has_name.astype('int64')\n"
   ]
  },
  {
   "cell_type": "code",
   "execution_count": 93,
   "metadata": {
    "scrolled": false
   },
   "outputs": [
    {
     "data": {
      "text/html": [
       "<div>\n",
       "<style scoped>\n",
       "    .dataframe tbody tr th:only-of-type {\n",
       "        vertical-align: middle;\n",
       "    }\n",
       "\n",
       "    .dataframe tbody tr th {\n",
       "        vertical-align: top;\n",
       "    }\n",
       "\n",
       "    .dataframe thead th {\n",
       "        text-align: right;\n",
       "    }\n",
       "</style>\n",
       "<table border=\"1\" class=\"dataframe\">\n",
       "  <thead>\n",
       "    <tr style=\"text-align: right;\">\n",
       "      <th></th>\n",
       "      <th>date_time</th>\n",
       "      <th>name</th>\n",
       "      <th>outcome</th>\n",
       "      <th>species</th>\n",
       "      <th>sex</th>\n",
       "      <th>sex_transformed</th>\n",
       "      <th>breed</th>\n",
       "      <th>color</th>\n",
       "      <th>age_destiny</th>\n",
       "      <th>age_transformed</th>\n",
       "      <th>has_name</th>\n",
       "    </tr>\n",
       "  </thead>\n",
       "  <tbody>\n",
       "    <tr>\n",
       "      <th>0</th>\n",
       "      <td>02/13/2016 05:59:00 PM</td>\n",
       "      <td>Moose</td>\n",
       "      <td>Adoption</td>\n",
       "      <td>Dog</td>\n",
       "      <td>Neutered Male</td>\n",
       "      <td>Male</td>\n",
       "      <td>Anatol Shepherd/Labrador Retriever</td>\n",
       "      <td>Buff</td>\n",
       "      <td>4 months</td>\n",
       "      <td>122.0</td>\n",
       "      <td>1</td>\n",
       "    </tr>\n",
       "    <tr>\n",
       "      <th>1</th>\n",
       "      <td>03/18/2014 11:47:00 AM</td>\n",
       "      <td>NaN</td>\n",
       "      <td>Transfer</td>\n",
       "      <td>Cat</td>\n",
       "      <td>Intact Male</td>\n",
       "      <td>Male</td>\n",
       "      <td>Domestic Shorthair Mix</td>\n",
       "      <td>Orange Tabby</td>\n",
       "      <td>6 days</td>\n",
       "      <td>6.0</td>\n",
       "      <td>0</td>\n",
       "    </tr>\n",
       "    <tr>\n",
       "      <th>2</th>\n",
       "      <td>10/18/2014 06:52:00 PM</td>\n",
       "      <td>*Donatello</td>\n",
       "      <td>Adoption</td>\n",
       "      <td>Cat</td>\n",
       "      <td>Neutered Male</td>\n",
       "      <td>Male</td>\n",
       "      <td>Domestic Shorthair Mix</td>\n",
       "      <td>Black</td>\n",
       "      <td>2 months</td>\n",
       "      <td>61.0</td>\n",
       "      <td>1</td>\n",
       "    </tr>\n",
       "    <tr>\n",
       "      <th>3</th>\n",
       "      <td>08/05/2014 04:59:00 PM</td>\n",
       "      <td>*Zeus</td>\n",
       "      <td>Adoption</td>\n",
       "      <td>Cat</td>\n",
       "      <td>Neutered Male</td>\n",
       "      <td>Male</td>\n",
       "      <td>Domestic Shorthair Mix</td>\n",
       "      <td>White/Orange Tabby</td>\n",
       "      <td>2 months</td>\n",
       "      <td>61.0</td>\n",
       "      <td>1</td>\n",
       "    </tr>\n",
       "    <tr>\n",
       "      <th>4</th>\n",
       "      <td>07/27/2014 09:00:00 AM</td>\n",
       "      <td>NaN</td>\n",
       "      <td>Transfer</td>\n",
       "      <td>Cat</td>\n",
       "      <td>Intact Female</td>\n",
       "      <td>Female</td>\n",
       "      <td>Domestic Shorthair Mix</td>\n",
       "      <td>Black</td>\n",
       "      <td>2 years</td>\n",
       "      <td>730.0</td>\n",
       "      <td>0</td>\n",
       "    </tr>\n",
       "    <tr>\n",
       "      <th>5</th>\n",
       "      <td>01/22/2017 11:56:00 AM</td>\n",
       "      <td>Artemis</td>\n",
       "      <td>Return to Owner</td>\n",
       "      <td>Cat</td>\n",
       "      <td>Neutered Male</td>\n",
       "      <td>Male</td>\n",
       "      <td>Domestic Shorthair Mix</td>\n",
       "      <td>Blue/White</td>\n",
       "      <td>7 years</td>\n",
       "      <td>2555.0</td>\n",
       "      <td>1</td>\n",
       "    </tr>\n",
       "    <tr>\n",
       "      <th>6</th>\n",
       "      <td>06/11/2014 05:11:00 PM</td>\n",
       "      <td>NaN</td>\n",
       "      <td>Transfer</td>\n",
       "      <td>Cat</td>\n",
       "      <td>Intact Male</td>\n",
       "      <td>Male</td>\n",
       "      <td>Domestic Shorthair Mix</td>\n",
       "      <td>Brown Tabby</td>\n",
       "      <td>2 days</td>\n",
       "      <td>2.0</td>\n",
       "      <td>0</td>\n",
       "    </tr>\n",
       "    <tr>\n",
       "      <th>7</th>\n",
       "      <td>03/16/2015 02:50:00 PM</td>\n",
       "      <td>Luigi</td>\n",
       "      <td>Transfer</td>\n",
       "      <td>Cat</td>\n",
       "      <td>Spayed Female</td>\n",
       "      <td>Female</td>\n",
       "      <td>Domestic Medium Hair Mix</td>\n",
       "      <td>Black/White</td>\n",
       "      <td>9 months</td>\n",
       "      <td>274.5</td>\n",
       "      <td>1</td>\n",
       "    </tr>\n",
       "    <tr>\n",
       "      <th>8</th>\n",
       "      <td>05/03/2016 12:39:00 PM</td>\n",
       "      <td>NaN</td>\n",
       "      <td>Euthanasia</td>\n",
       "      <td>Other</td>\n",
       "      <td>Unknown</td>\n",
       "      <td>Unknown</td>\n",
       "      <td>Opossum</td>\n",
       "      <td>Gray</td>\n",
       "      <td>2 weeks</td>\n",
       "      <td>14.0</td>\n",
       "      <td>0</td>\n",
       "    </tr>\n",
       "    <tr>\n",
       "      <th>9</th>\n",
       "      <td>09/10/2016 06:59:00 PM</td>\n",
       "      <td>*Liza</td>\n",
       "      <td>Adoption</td>\n",
       "      <td>Cat</td>\n",
       "      <td>Spayed Female</td>\n",
       "      <td>Female</td>\n",
       "      <td>Domestic Shorthair Mix</td>\n",
       "      <td>Calico</td>\n",
       "      <td>3 months</td>\n",
       "      <td>91.5</td>\n",
       "      <td>1</td>\n",
       "    </tr>\n",
       "    <tr>\n",
       "      <th>10</th>\n",
       "      <td>12/26/2016 01:45:00 PM</td>\n",
       "      <td>Terry</td>\n",
       "      <td>Return to Owner</td>\n",
       "      <td>Dog</td>\n",
       "      <td>Neutered Male</td>\n",
       "      <td>Male</td>\n",
       "      <td>Australian Cattle Dog Mix</td>\n",
       "      <td>Black/White</td>\n",
       "      <td>3 years</td>\n",
       "      <td>1095.0</td>\n",
       "      <td>1</td>\n",
       "    </tr>\n",
       "    <tr>\n",
       "      <th>11</th>\n",
       "      <td>04/03/2015 04:16:00 PM</td>\n",
       "      <td>NaN</td>\n",
       "      <td>Euthanasia</td>\n",
       "      <td>Cat</td>\n",
       "      <td>Unknown</td>\n",
       "      <td>Unknown</td>\n",
       "      <td>Domestic Shorthair Mix</td>\n",
       "      <td>Gray</td>\n",
       "      <td>2 years</td>\n",
       "      <td>730.0</td>\n",
       "      <td>0</td>\n",
       "    </tr>\n",
       "    <tr>\n",
       "      <th>12</th>\n",
       "      <td>06/09/2016 02:50:00 PM</td>\n",
       "      <td>King</td>\n",
       "      <td>Adoption</td>\n",
       "      <td>Dog</td>\n",
       "      <td>Neutered Male</td>\n",
       "      <td>Male</td>\n",
       "      <td>Pit Bull Mix</td>\n",
       "      <td>Brown Brindle/White</td>\n",
       "      <td>7 months</td>\n",
       "      <td>213.5</td>\n",
       "      <td>1</td>\n",
       "    </tr>\n",
       "    <tr>\n",
       "      <th>13</th>\n",
       "      <td>03/31/2016 07:08:00 PM</td>\n",
       "      <td>Canine</td>\n",
       "      <td>Return to Owner</td>\n",
       "      <td>Dog</td>\n",
       "      <td>Neutered Male</td>\n",
       "      <td>Male</td>\n",
       "      <td>German Shepherd Mix</td>\n",
       "      <td>Brown/Black</td>\n",
       "      <td>6 years</td>\n",
       "      <td>2190.0</td>\n",
       "      <td>1</td>\n",
       "    </tr>\n",
       "    <tr>\n",
       "      <th>14</th>\n",
       "      <td>07/18/2015 09:00:00 AM</td>\n",
       "      <td>NaN</td>\n",
       "      <td>Transfer</td>\n",
       "      <td>Cat</td>\n",
       "      <td>Intact Male</td>\n",
       "      <td>Male</td>\n",
       "      <td>Domestic Shorthair Mix</td>\n",
       "      <td>Black/White</td>\n",
       "      <td>3 months</td>\n",
       "      <td>91.5</td>\n",
       "      <td>0</td>\n",
       "    </tr>\n",
       "    <tr>\n",
       "      <th>15</th>\n",
       "      <td>07/02/2014 07:01:00 PM</td>\n",
       "      <td>Buster</td>\n",
       "      <td>Return to Owner</td>\n",
       "      <td>Dog</td>\n",
       "      <td>Neutered Male</td>\n",
       "      <td>Male</td>\n",
       "      <td>Dogo Argentino Mix</td>\n",
       "      <td>White/Brown</td>\n",
       "      <td>4 years</td>\n",
       "      <td>1460.0</td>\n",
       "      <td>1</td>\n",
       "    </tr>\n",
       "    <tr>\n",
       "      <th>16</th>\n",
       "      <td>11/27/2016 05:35:00 PM</td>\n",
       "      <td>Milo</td>\n",
       "      <td>Adoption</td>\n",
       "      <td>Dog</td>\n",
       "      <td>Neutered Male</td>\n",
       "      <td>Male</td>\n",
       "      <td>Black Mouth Cur Mix</td>\n",
       "      <td>Brown/Black</td>\n",
       "      <td>2 months</td>\n",
       "      <td>61.0</td>\n",
       "      <td>1</td>\n",
       "    </tr>\n",
       "    <tr>\n",
       "      <th>17</th>\n",
       "      <td>07/05/2016 12:47:00 PM</td>\n",
       "      <td>NaN</td>\n",
       "      <td>Euthanasia</td>\n",
       "      <td>Other</td>\n",
       "      <td>Unknown</td>\n",
       "      <td>Unknown</td>\n",
       "      <td>Bat</td>\n",
       "      <td>Black/Brown</td>\n",
       "      <td>1 year</td>\n",
       "      <td>365.0</td>\n",
       "      <td>0</td>\n",
       "    </tr>\n",
       "    <tr>\n",
       "      <th>18</th>\n",
       "      <td>02/14/2014 11:44:00 AM</td>\n",
       "      <td>Valentine</td>\n",
       "      <td>Transfer</td>\n",
       "      <td>Dog</td>\n",
       "      <td>Spayed Female</td>\n",
       "      <td>Female</td>\n",
       "      <td>Collie Rough Mix</td>\n",
       "      <td>Red</td>\n",
       "      <td>12 years</td>\n",
       "      <td>4380.0</td>\n",
       "      <td>1</td>\n",
       "    </tr>\n",
       "    <tr>\n",
       "      <th>19</th>\n",
       "      <td>10/30/2013 04:23:00 PM</td>\n",
       "      <td>Indica</td>\n",
       "      <td>Adoption</td>\n",
       "      <td>Dog</td>\n",
       "      <td>Spayed Female</td>\n",
       "      <td>Female</td>\n",
       "      <td>German Shepherd Mix</td>\n",
       "      <td>Black/Tan</td>\n",
       "      <td>4 months</td>\n",
       "      <td>122.0</td>\n",
       "      <td>1</td>\n",
       "    </tr>\n",
       "    <tr>\n",
       "      <th>20</th>\n",
       "      <td>07/19/2014 06:32:00 PM</td>\n",
       "      <td>Big Boy</td>\n",
       "      <td>Return to Owner</td>\n",
       "      <td>Dog</td>\n",
       "      <td>Neutered Male</td>\n",
       "      <td>Male</td>\n",
       "      <td>American Staffordshire Terrier Mix</td>\n",
       "      <td>Brown Brindle/White</td>\n",
       "      <td>2 years</td>\n",
       "      <td>730.0</td>\n",
       "      <td>1</td>\n",
       "    </tr>\n",
       "    <tr>\n",
       "      <th>21</th>\n",
       "      <td>06/20/2015 04:25:00 PM</td>\n",
       "      <td>*Dell</td>\n",
       "      <td>Adoption</td>\n",
       "      <td>Cat</td>\n",
       "      <td>Neutered Male</td>\n",
       "      <td>Male</td>\n",
       "      <td>Domestic Shorthair Mix</td>\n",
       "      <td>White/Blue Tabby</td>\n",
       "      <td>2 months</td>\n",
       "      <td>61.0</td>\n",
       "      <td>1</td>\n",
       "    </tr>\n",
       "    <tr>\n",
       "      <th>22</th>\n",
       "      <td>12/05/2014 03:55:00 PM</td>\n",
       "      <td>Louie</td>\n",
       "      <td>Adoption</td>\n",
       "      <td>Dog</td>\n",
       "      <td>Neutered Male</td>\n",
       "      <td>Male</td>\n",
       "      <td>Dachshund/Chihuahua Shorthair</td>\n",
       "      <td>Sable/Tan</td>\n",
       "      <td>6 months</td>\n",
       "      <td>183.0</td>\n",
       "      <td>1</td>\n",
       "    </tr>\n",
       "    <tr>\n",
       "      <th>23</th>\n",
       "      <td>10/13/2014 06:14:00 PM</td>\n",
       "      <td>*Sterling</td>\n",
       "      <td>Adoption</td>\n",
       "      <td>Dog</td>\n",
       "      <td>Neutered Male</td>\n",
       "      <td>Male</td>\n",
       "      <td>Chihuahua Shorthair Mix</td>\n",
       "      <td>Tan/White</td>\n",
       "      <td>1 year</td>\n",
       "      <td>365.0</td>\n",
       "      <td>1</td>\n",
       "    </tr>\n",
       "    <tr>\n",
       "      <th>24</th>\n",
       "      <td>10/21/2016 02:45:00 PM</td>\n",
       "      <td>Max</td>\n",
       "      <td>Return to Owner</td>\n",
       "      <td>Dog</td>\n",
       "      <td>Neutered Male</td>\n",
       "      <td>Male</td>\n",
       "      <td>Pug Mix</td>\n",
       "      <td>Brown Brindle</td>\n",
       "      <td>3 years</td>\n",
       "      <td>1095.0</td>\n",
       "      <td>1</td>\n",
       "    </tr>\n",
       "    <tr>\n",
       "      <th>25</th>\n",
       "      <td>04/12/2018 05:33:00 PM</td>\n",
       "      <td>NaN</td>\n",
       "      <td>Transfer</td>\n",
       "      <td>Cat</td>\n",
       "      <td>Unknown</td>\n",
       "      <td>Unknown</td>\n",
       "      <td>Domestic Shorthair Mix</td>\n",
       "      <td>Black</td>\n",
       "      <td>1 year</td>\n",
       "      <td>365.0</td>\n",
       "      <td>0</td>\n",
       "    </tr>\n",
       "    <tr>\n",
       "      <th>26</th>\n",
       "      <td>03/21/2019 03:28:00 PM</td>\n",
       "      <td>Cleo</td>\n",
       "      <td>Adoption</td>\n",
       "      <td>Cat</td>\n",
       "      <td>Spayed Female</td>\n",
       "      <td>Female</td>\n",
       "      <td>Domestic Shorthair Mix</td>\n",
       "      <td>Blue/White</td>\n",
       "      <td>2 years</td>\n",
       "      <td>730.0</td>\n",
       "      <td>1</td>\n",
       "    </tr>\n",
       "    <tr>\n",
       "      <th>27</th>\n",
       "      <td>05/28/2018 02:27:00 PM</td>\n",
       "      <td>NaN</td>\n",
       "      <td>Adoption</td>\n",
       "      <td>Dog</td>\n",
       "      <td>Neutered Male</td>\n",
       "      <td>Male</td>\n",
       "      <td>Rottweiler/Labrador Retriever</td>\n",
       "      <td>Black/Brown</td>\n",
       "      <td>7 months</td>\n",
       "      <td>213.5</td>\n",
       "      <td>0</td>\n",
       "    </tr>\n",
       "    <tr>\n",
       "      <th>28</th>\n",
       "      <td>11/23/2018 02:29:00 PM</td>\n",
       "      <td>*Binx</td>\n",
       "      <td>Adoption</td>\n",
       "      <td>Cat</td>\n",
       "      <td>Neutered Male</td>\n",
       "      <td>Male</td>\n",
       "      <td>Domestic Shorthair Mix</td>\n",
       "      <td>Black</td>\n",
       "      <td>2 months</td>\n",
       "      <td>61.0</td>\n",
       "      <td>1</td>\n",
       "    </tr>\n",
       "    <tr>\n",
       "      <th>29</th>\n",
       "      <td>03/29/2018 11:31:00 AM</td>\n",
       "      <td>Nutty Buddy</td>\n",
       "      <td>Return to Owner</td>\n",
       "      <td>Dog</td>\n",
       "      <td>Neutered Male</td>\n",
       "      <td>Male</td>\n",
       "      <td>Beagle Mix</td>\n",
       "      <td>Tan</td>\n",
       "      <td>9 years</td>\n",
       "      <td>3285.0</td>\n",
       "      <td>1</td>\n",
       "    </tr>\n",
       "    <tr>\n",
       "      <th>30</th>\n",
       "      <td>03/21/2017 01:24:00 PM</td>\n",
       "      <td>Jamay</td>\n",
       "      <td>Return to Owner</td>\n",
       "      <td>Cat</td>\n",
       "      <td>Neutered Male</td>\n",
       "      <td>Male</td>\n",
       "      <td>Manx Mix</td>\n",
       "      <td>Brown Tabby/White</td>\n",
       "      <td>5 years</td>\n",
       "      <td>1825.0</td>\n",
       "      <td>1</td>\n",
       "    </tr>\n",
       "    <tr>\n",
       "      <th>31</th>\n",
       "      <td>02/26/2017 06:50:00 PM</td>\n",
       "      <td>Duckie</td>\n",
       "      <td>Adoption</td>\n",
       "      <td>Cat</td>\n",
       "      <td>Neutered Male</td>\n",
       "      <td>Male</td>\n",
       "      <td>Domestic Shorthair Mix</td>\n",
       "      <td>Brown Tabby</td>\n",
       "      <td>5 months</td>\n",
       "      <td>152.5</td>\n",
       "      <td>1</td>\n",
       "    </tr>\n",
       "    <tr>\n",
       "      <th>32</th>\n",
       "      <td>02/24/2017 06:13:00 PM</td>\n",
       "      <td>NaN</td>\n",
       "      <td>Adoption</td>\n",
       "      <td>Dog</td>\n",
       "      <td>Spayed Female</td>\n",
       "      <td>Female</td>\n",
       "      <td>Miniature Schnauzer Mix</td>\n",
       "      <td>Black/White</td>\n",
       "      <td>1 month</td>\n",
       "      <td>30.5</td>\n",
       "      <td>0</td>\n",
       "    </tr>\n",
       "    <tr>\n",
       "      <th>33</th>\n",
       "      <td>05/29/2017 05:42:00 PM</td>\n",
       "      <td>NaN</td>\n",
       "      <td>Adoption</td>\n",
       "      <td>Cat</td>\n",
       "      <td>Intact Male</td>\n",
       "      <td>Male</td>\n",
       "      <td>Domestic Shorthair Mix</td>\n",
       "      <td>Orange Tabby/White</td>\n",
       "      <td>2 months</td>\n",
       "      <td>61.0</td>\n",
       "      <td>0</td>\n",
       "    </tr>\n",
       "    <tr>\n",
       "      <th>34</th>\n",
       "      <td>05/10/2018 02:30:00 PM</td>\n",
       "      <td>*Poppy</td>\n",
       "      <td>Rto-Adopt</td>\n",
       "      <td>Dog</td>\n",
       "      <td>Spayed Female</td>\n",
       "      <td>Female</td>\n",
       "      <td>Pointer Mix</td>\n",
       "      <td>White/Black</td>\n",
       "      <td>1 year</td>\n",
       "      <td>365.0</td>\n",
       "      <td>1</td>\n",
       "    </tr>\n",
       "    <tr>\n",
       "      <th>35</th>\n",
       "      <td>09/11/2017 06:44:00 PM</td>\n",
       "      <td>NaN</td>\n",
       "      <td>Euthanasia</td>\n",
       "      <td>Cat</td>\n",
       "      <td>Unknown</td>\n",
       "      <td>Unknown</td>\n",
       "      <td>American Shorthair Mix</td>\n",
       "      <td>Gray Tabby/White</td>\n",
       "      <td>1 week</td>\n",
       "      <td>7.0</td>\n",
       "      <td>0</td>\n",
       "    </tr>\n",
       "    <tr>\n",
       "      <th>36</th>\n",
       "      <td>03/21/2019 09:16:00 AM</td>\n",
       "      <td>NaN</td>\n",
       "      <td>Euthanasia</td>\n",
       "      <td>Other</td>\n",
       "      <td>Unknown</td>\n",
       "      <td>Unknown</td>\n",
       "      <td>Bat Mix</td>\n",
       "      <td>Brown</td>\n",
       "      <td>3 years</td>\n",
       "      <td>1095.0</td>\n",
       "      <td>0</td>\n",
       "    </tr>\n",
       "    <tr>\n",
       "      <th>37</th>\n",
       "      <td>10/04/2017 09:15:00 AM</td>\n",
       "      <td>026</td>\n",
       "      <td>Transfer</td>\n",
       "      <td>Dog</td>\n",
       "      <td>Intact Male</td>\n",
       "      <td>Male</td>\n",
       "      <td>Pit Bull Mix</td>\n",
       "      <td>Brown Brindle</td>\n",
       "      <td>2 years</td>\n",
       "      <td>730.0</td>\n",
       "      <td>1</td>\n",
       "    </tr>\n",
       "    <tr>\n",
       "      <th>38</th>\n",
       "      <td>11/06/2017 04:21:00 PM</td>\n",
       "      <td>NaN</td>\n",
       "      <td>Transfer</td>\n",
       "      <td>Dog</td>\n",
       "      <td>Neutered Male</td>\n",
       "      <td>Male</td>\n",
       "      <td>Great Dane</td>\n",
       "      <td>Black/White</td>\n",
       "      <td>1 year</td>\n",
       "      <td>365.0</td>\n",
       "      <td>0</td>\n",
       "    </tr>\n",
       "    <tr>\n",
       "      <th>39</th>\n",
       "      <td>02/25/2018 06:25:00 PM</td>\n",
       "      <td>Satellite</td>\n",
       "      <td>Return to Owner</td>\n",
       "      <td>Dog</td>\n",
       "      <td>Spayed Female</td>\n",
       "      <td>Female</td>\n",
       "      <td>Australian Cattle Dog Mix</td>\n",
       "      <td>Red Tick</td>\n",
       "      <td>7 years</td>\n",
       "      <td>2555.0</td>\n",
       "      <td>1</td>\n",
       "    </tr>\n",
       "  </tbody>\n",
       "</table>\n",
       "</div>"
      ],
      "text/plain": [
       "                 date_time         name          outcome species  \\\n",
       "0   02/13/2016 05:59:00 PM        Moose         Adoption     Dog   \n",
       "1   03/18/2014 11:47:00 AM          NaN         Transfer     Cat   \n",
       "2   10/18/2014 06:52:00 PM   *Donatello         Adoption     Cat   \n",
       "3   08/05/2014 04:59:00 PM        *Zeus         Adoption     Cat   \n",
       "4   07/27/2014 09:00:00 AM          NaN         Transfer     Cat   \n",
       "5   01/22/2017 11:56:00 AM      Artemis  Return to Owner     Cat   \n",
       "6   06/11/2014 05:11:00 PM          NaN         Transfer     Cat   \n",
       "7   03/16/2015 02:50:00 PM        Luigi         Transfer     Cat   \n",
       "8   05/03/2016 12:39:00 PM          NaN       Euthanasia   Other   \n",
       "9   09/10/2016 06:59:00 PM        *Liza         Adoption     Cat   \n",
       "10  12/26/2016 01:45:00 PM        Terry  Return to Owner     Dog   \n",
       "11  04/03/2015 04:16:00 PM          NaN       Euthanasia     Cat   \n",
       "12  06/09/2016 02:50:00 PM         King         Adoption     Dog   \n",
       "13  03/31/2016 07:08:00 PM       Canine  Return to Owner     Dog   \n",
       "14  07/18/2015 09:00:00 AM          NaN         Transfer     Cat   \n",
       "15  07/02/2014 07:01:00 PM       Buster  Return to Owner     Dog   \n",
       "16  11/27/2016 05:35:00 PM         Milo         Adoption     Dog   \n",
       "17  07/05/2016 12:47:00 PM          NaN       Euthanasia   Other   \n",
       "18  02/14/2014 11:44:00 AM    Valentine         Transfer     Dog   \n",
       "19  10/30/2013 04:23:00 PM       Indica         Adoption     Dog   \n",
       "20  07/19/2014 06:32:00 PM      Big Boy  Return to Owner     Dog   \n",
       "21  06/20/2015 04:25:00 PM        *Dell         Adoption     Cat   \n",
       "22  12/05/2014 03:55:00 PM        Louie         Adoption     Dog   \n",
       "23  10/13/2014 06:14:00 PM    *Sterling         Adoption     Dog   \n",
       "24  10/21/2016 02:45:00 PM          Max  Return to Owner     Dog   \n",
       "25  04/12/2018 05:33:00 PM          NaN         Transfer     Cat   \n",
       "26  03/21/2019 03:28:00 PM         Cleo         Adoption     Cat   \n",
       "27  05/28/2018 02:27:00 PM          NaN         Adoption     Dog   \n",
       "28  11/23/2018 02:29:00 PM        *Binx         Adoption     Cat   \n",
       "29  03/29/2018 11:31:00 AM  Nutty Buddy  Return to Owner     Dog   \n",
       "30  03/21/2017 01:24:00 PM        Jamay  Return to Owner     Cat   \n",
       "31  02/26/2017 06:50:00 PM       Duckie         Adoption     Cat   \n",
       "32  02/24/2017 06:13:00 PM          NaN         Adoption     Dog   \n",
       "33  05/29/2017 05:42:00 PM          NaN         Adoption     Cat   \n",
       "34  05/10/2018 02:30:00 PM       *Poppy        Rto-Adopt     Dog   \n",
       "35  09/11/2017 06:44:00 PM          NaN       Euthanasia     Cat   \n",
       "36  03/21/2019 09:16:00 AM          NaN       Euthanasia   Other   \n",
       "37  10/04/2017 09:15:00 AM          026         Transfer     Dog   \n",
       "38  11/06/2017 04:21:00 PM          NaN         Transfer     Dog   \n",
       "39  02/25/2018 06:25:00 PM    Satellite  Return to Owner     Dog   \n",
       "\n",
       "              sex sex_transformed                               breed  \\\n",
       "0   Neutered Male            Male  Anatol Shepherd/Labrador Retriever   \n",
       "1     Intact Male            Male              Domestic Shorthair Mix   \n",
       "2   Neutered Male            Male              Domestic Shorthair Mix   \n",
       "3   Neutered Male            Male              Domestic Shorthair Mix   \n",
       "4   Intact Female          Female              Domestic Shorthair Mix   \n",
       "5   Neutered Male            Male              Domestic Shorthair Mix   \n",
       "6     Intact Male            Male              Domestic Shorthair Mix   \n",
       "7   Spayed Female          Female            Domestic Medium Hair Mix   \n",
       "8         Unknown         Unknown                             Opossum   \n",
       "9   Spayed Female          Female              Domestic Shorthair Mix   \n",
       "10  Neutered Male            Male           Australian Cattle Dog Mix   \n",
       "11        Unknown         Unknown              Domestic Shorthair Mix   \n",
       "12  Neutered Male            Male                        Pit Bull Mix   \n",
       "13  Neutered Male            Male                 German Shepherd Mix   \n",
       "14    Intact Male            Male              Domestic Shorthair Mix   \n",
       "15  Neutered Male            Male                  Dogo Argentino Mix   \n",
       "16  Neutered Male            Male                 Black Mouth Cur Mix   \n",
       "17        Unknown         Unknown                                 Bat   \n",
       "18  Spayed Female          Female                    Collie Rough Mix   \n",
       "19  Spayed Female          Female                 German Shepherd Mix   \n",
       "20  Neutered Male            Male  American Staffordshire Terrier Mix   \n",
       "21  Neutered Male            Male              Domestic Shorthair Mix   \n",
       "22  Neutered Male            Male       Dachshund/Chihuahua Shorthair   \n",
       "23  Neutered Male            Male             Chihuahua Shorthair Mix   \n",
       "24  Neutered Male            Male                             Pug Mix   \n",
       "25        Unknown         Unknown              Domestic Shorthair Mix   \n",
       "26  Spayed Female          Female              Domestic Shorthair Mix   \n",
       "27  Neutered Male            Male       Rottweiler/Labrador Retriever   \n",
       "28  Neutered Male            Male              Domestic Shorthair Mix   \n",
       "29  Neutered Male            Male                          Beagle Mix   \n",
       "30  Neutered Male            Male                            Manx Mix   \n",
       "31  Neutered Male            Male              Domestic Shorthair Mix   \n",
       "32  Spayed Female          Female             Miniature Schnauzer Mix   \n",
       "33    Intact Male            Male              Domestic Shorthair Mix   \n",
       "34  Spayed Female          Female                         Pointer Mix   \n",
       "35        Unknown         Unknown              American Shorthair Mix   \n",
       "36        Unknown         Unknown                             Bat Mix   \n",
       "37    Intact Male            Male                        Pit Bull Mix   \n",
       "38  Neutered Male            Male                          Great Dane   \n",
       "39  Spayed Female          Female           Australian Cattle Dog Mix   \n",
       "\n",
       "                  color age_destiny  age_transformed  has_name  \n",
       "0                  Buff    4 months            122.0         1  \n",
       "1          Orange Tabby      6 days              6.0         0  \n",
       "2                 Black    2 months             61.0         1  \n",
       "3    White/Orange Tabby    2 months             61.0         1  \n",
       "4                 Black     2 years            730.0         0  \n",
       "5            Blue/White     7 years           2555.0         1  \n",
       "6           Brown Tabby      2 days              2.0         0  \n",
       "7           Black/White    9 months            274.5         1  \n",
       "8                  Gray     2 weeks             14.0         0  \n",
       "9                Calico    3 months             91.5         1  \n",
       "10          Black/White     3 years           1095.0         1  \n",
       "11                 Gray     2 years            730.0         0  \n",
       "12  Brown Brindle/White    7 months            213.5         1  \n",
       "13          Brown/Black     6 years           2190.0         1  \n",
       "14          Black/White    3 months             91.5         0  \n",
       "15          White/Brown     4 years           1460.0         1  \n",
       "16          Brown/Black    2 months             61.0         1  \n",
       "17          Black/Brown      1 year            365.0         0  \n",
       "18                  Red    12 years           4380.0         1  \n",
       "19            Black/Tan    4 months            122.0         1  \n",
       "20  Brown Brindle/White     2 years            730.0         1  \n",
       "21     White/Blue Tabby    2 months             61.0         1  \n",
       "22            Sable/Tan    6 months            183.0         1  \n",
       "23            Tan/White      1 year            365.0         1  \n",
       "24        Brown Brindle     3 years           1095.0         1  \n",
       "25                Black      1 year            365.0         0  \n",
       "26           Blue/White     2 years            730.0         1  \n",
       "27          Black/Brown    7 months            213.5         0  \n",
       "28                Black    2 months             61.0         1  \n",
       "29                  Tan     9 years           3285.0         1  \n",
       "30    Brown Tabby/White     5 years           1825.0         1  \n",
       "31          Brown Tabby    5 months            152.5         1  \n",
       "32          Black/White     1 month             30.5         0  \n",
       "33   Orange Tabby/White    2 months             61.0         0  \n",
       "34          White/Black      1 year            365.0         1  \n",
       "35     Gray Tabby/White      1 week              7.0         0  \n",
       "36                Brown     3 years           1095.0         0  \n",
       "37        Brown Brindle     2 years            730.0         1  \n",
       "38          Black/White      1 year            365.0         0  \n",
       "39             Red Tick     7 years           2555.0         1  "
      ]
     },
     "execution_count": 93,
     "metadata": {},
     "output_type": "execute_result"
    }
   ],
   "source": [
    "# next need to remove non word or digit in name column\n",
    "# if there's any nan, need to convert to 0 as well\n",
    "\n",
    "# has name makes a difference in animal outcome?"
   ]
  },
  {
   "cell_type": "code",
   "execution_count": null,
   "metadata": {},
   "outputs": [],
   "source": []
  },
  {
   "cell_type": "code",
   "execution_count": null,
   "metadata": {},
   "outputs": [],
   "source": []
  },
  {
   "cell_type": "code",
   "execution_count": null,
   "metadata": {},
   "outputs": [],
   "source": []
  },
  {
   "cell_type": "code",
   "execution_count": null,
   "metadata": {},
   "outputs": [],
   "source": []
  },
  {
   "cell_type": "code",
   "execution_count": null,
   "metadata": {
    "scrolled": true
   },
   "outputs": [],
   "source": [
    "# handle color and breed\n",
    "print(f\"\"\"\n",
    "peek unique breed: \n",
    "{df.breed.unique().tolist()}\n",
    "-\n",
    "peek unique colors:\n",
    "{df.color.unique().tolist()}\n",
    "\"\"\")"
   ]
  },
  {
   "cell_type": "code",
   "execution_count": null,
   "metadata": {},
   "outputs": [],
   "source": [
    "cat_temp = df[df.species == 'Cat']\n",
    "cat_temp.color.nunique()"
   ]
  },
  {
   "cell_type": "code",
   "execution_count": null,
   "metadata": {},
   "outputs": [],
   "source": [
    "dog_temp = df[df.species == 'Dog']\n",
    "dog_temp.color.nunique()"
   ]
  },
  {
   "cell_type": "code",
   "execution_count": null,
   "metadata": {},
   "outputs": [],
   "source": [
    "import re"
   ]
  },
  {
   "cell_type": "code",
   "execution_count": null,
   "metadata": {},
   "outputs": [],
   "source": [
    "# take care of months\n",
    "df.age_destiny = df.age_destiny.apply(lambda x: re.sub(r'([^\\d+])', '',x) if 'months' in x else x)\n",
    "df.age_destiny = df.age_destiny.apply(lambda x: re.sub(r'([^\\d+])', '',x) if 'month' in x else x)"
   ]
  },
  {
   "cell_type": "code",
   "execution_count": null,
   "metadata": {},
   "outputs": [],
   "source": [
    "def name_adopt_relationship(data):\n",
    "    # get unique names\n",
    "    name_list = data.Name.dropna().unique()\n",
    "    # convert ndarray to list for iteration\n",
    "    name_list = list(name_list)\n",
    "    # create empty lists to hold calculated data\n",
    "    name = []\n",
    "    adopt_rate = []\n",
    "    count = []\n",
    "    dict = {}\n",
    "    for n in name_list:\n",
    "        # store name into list\n",
    "        name.append(n)\n",
    "        # calculate adoption rate for each name \n",
    "        # divide by all outcomes attached with that particular name\n",
    "        rate = len(data[(data.Name == n) & (data[\"Outcome Type\"] == \"Adoption\")]) / len(data[data.Name == n])\n",
    "        # store name into rate\n",
    "        adopt_rate.append(rate)\n",
    "        count.append(len(data[data.Name == n]))\n",
    "    dict = {'pet_name': name, 'name_count': count, 'adopt_rate': adopt_rate}\n",
    "    return pd.DataFrame(dict)"
   ]
  },
  {
   "cell_type": "code",
   "execution_count": null,
   "metadata": {},
   "outputs": [],
   "source": [
    "cat = name_adopt_relationship(cat)\n",
    "cat"
   ]
  },
  {
   "cell_type": "code",
   "execution_count": null,
   "metadata": {},
   "outputs": [],
   "source": [
    "cat[cat.name_count >= 50].sort_values(by = 'adopt_rate', ascending = False)"
   ]
  },
  {
   "cell_type": "code",
   "execution_count": 32,
   "metadata": {},
   "outputs": [
    {
     "ename": "NameError",
     "evalue": "name 'name_adopt_relationship' is not defined",
     "output_type": "error",
     "traceback": [
      "\u001b[0;31m---------------------------------------------------------------------------\u001b[0m",
      "\u001b[0;31mNameError\u001b[0m                                 Traceback (most recent call last)",
      "\u001b[0;32m<ipython-input-32-7f94521893f6>\u001b[0m in \u001b[0;36m<module>\u001b[0;34m\u001b[0m\n\u001b[0;32m----> 1\u001b[0;31m \u001b[0mdog_result\u001b[0m \u001b[0;34m=\u001b[0m \u001b[0mname_adopt_relationship\u001b[0m\u001b[0;34m(\u001b[0m\u001b[0mdog\u001b[0m\u001b[0;34m)\u001b[0m\u001b[0;34m\u001b[0m\u001b[0;34m\u001b[0m\u001b[0m\n\u001b[0m\u001b[1;32m      2\u001b[0m \u001b[0mdog_result\u001b[0m\u001b[0;34m\u001b[0m\u001b[0;34m\u001b[0m\u001b[0m\n",
      "\u001b[0;31mNameError\u001b[0m: name 'name_adopt_relationship' is not defined"
     ]
    }
   ],
   "source": [
    "dog_result = name_adopt_relationship(dog)\n",
    "dog_result"
   ]
  },
  {
   "cell_type": "code",
   "execution_count": null,
   "metadata": {},
   "outputs": [],
   "source": [
    "dog_result[dog_result.name_count >= 30].sort_values(by = 'adopt_rate', ascending = False)"
   ]
  },
  {
   "cell_type": "raw",
   "metadata": {},
   "source": []
  },
  {
   "cell_type": "code",
   "execution_count": null,
   "metadata": {},
   "outputs": [],
   "source": [
    "import seaborn as sns\n",
    "import matplotlib.pyplot as plt\n",
    "sns.set(style=\"whitegrid\")\n",
    "\n",
    "# Initialize the matplotlib figure\n",
    "f, ax = plt.subplots(figsize=(6, 15))\n",
    "\n",
    "# Load the example car crash dataset\n",
    "crashes = sns.load_dataset(\"car_crashes\").sort_values(\"total\", ascending=False)\n",
    "\n",
    "# Plot the total crashes\n",
    "sns.set_color_codes(\"pastel\")\n",
    "sns.barplot(x=\"total\", y=\"abbrev\", data=crashes,\n",
    "            label=\"Total\", color=\"b\")\n",
    "\n",
    "# Plot the crashes where alcohol was involved\n",
    "sns.set_color_codes(\"muted\")\n",
    "sns.barplot(x=\"alcohol\", y=\"abbrev\", data=crashes,\n",
    "            label=\"Alcohol-involved\", color=\"b\")\n",
    "\n",
    "# Add a legend and informative axis label\n",
    "ax.legend(ncol=2, loc=\"lower right\", frameon=True)\n",
    "ax.set(xlim=(0, 24), ylabel=\"\",\n",
    "       xlabel=\"Automobile collisions per billion miles\")\n",
    "sns.despine(left=True, bottom=True)"
   ]
  },
  {
   "cell_type": "code",
   "execution_count": null,
   "metadata": {},
   "outputs": [],
   "source": [
    "df[df.Name == 'Sasha'][\"Outcome Type\"].value_counts()"
   ]
  },
  {
   "cell_type": "code",
   "execution_count": null,
   "metadata": {},
   "outputs": [],
   "source": [
    "df[df.Name == 'Rocky'][\"Outcome Type\"].value_counts()"
   ]
  },
  {
   "cell_type": "code",
   "execution_count": null,
   "metadata": {},
   "outputs": [],
   "source": [
    "len(df[(df.Name == 'Rocky') & (df[\"Outcome Type\"] == \"Adoption\")]) / len(df[df.Name == 'Rocky'])"
   ]
  },
  {
   "cell_type": "code",
   "execution_count": null,
   "metadata": {
    "scrolled": true
   },
   "outputs": [],
   "source": [
    "df.groupby('Name')['Outcome Type'].nunique().sort_values(ascending=False)"
   ]
  },
  {
   "cell_type": "code",
   "execution_count": null,
   "metadata": {},
   "outputs": [],
   "source": [
    "df_19[df_19.DateTime == df_19.MonthYear].info()"
   ]
  },
  {
   "cell_type": "code",
   "execution_count": null,
   "metadata": {},
   "outputs": [],
   "source": [
    "df_19['Animal Type'].value_counts()"
   ]
  },
  {
   "cell_type": "code",
   "execution_count": null,
   "metadata": {},
   "outputs": [],
   "source": [
    "df_19.info()"
   ]
  },
  {
   "cell_type": "code",
   "execution_count": null,
   "metadata": {
    "scrolled": true
   },
   "outputs": [],
   "source": [
    "prepare.report_col_with_null(df_19)"
   ]
  },
  {
   "cell_type": "markdown",
   "metadata": {},
   "source": [
    "Using real data from Animal Care Services and a Decision Tree Classifier, I was able to predict if an animal would be euthanized or adopted with an accuracy of over 90%. To achieve this result I engineered new features by thinking about what factors contribute to an animal being adopted and also used undersampling to balance the classes. I then used cross-validation and tried several classification models to determine which performed the best."
   ]
  },
  {
   "cell_type": "code",
   "execution_count": null,
   "metadata": {},
   "outputs": [],
   "source": []
  },
  {
   "cell_type": "code",
   "execution_count": null,
   "metadata": {},
   "outputs": [],
   "source": []
  },
  {
   "cell_type": "code",
   "execution_count": null,
   "metadata": {},
   "outputs": [],
   "source": []
  },
  {
   "cell_type": "code",
   "execution_count": null,
   "metadata": {},
   "outputs": [],
   "source": [
    "df = pd.read_csv('train.csv')"
   ]
  },
  {
   "cell_type": "code",
   "execution_count": null,
   "metadata": {},
   "outputs": [],
   "source": [
    "df.info()"
   ]
  },
  {
   "cell_type": "code",
   "execution_count": null,
   "metadata": {},
   "outputs": [],
   "source": [
    "df.AnimalType.unique()"
   ]
  },
  {
   "cell_type": "code",
   "execution_count": null,
   "metadata": {},
   "outputs": [],
   "source": [
    "# ID seems unique\n",
    "df.AnimalID.nunique()"
   ]
  },
  {
   "cell_type": "code",
   "execution_count": null,
   "metadata": {
    "scrolled": true
   },
   "outputs": [],
   "source": [
    "df.head()"
   ]
  },
  {
   "cell_type": "code",
   "execution_count": null,
   "metadata": {},
   "outputs": [],
   "source": [
    "df.OutcomeType.value_counts().plot(kind='bar')"
   ]
  },
  {
   "cell_type": "markdown",
   "metadata": {},
   "source": [
    "**Initial thought after peek at data**\n",
    "1. sep animal type\n",
    "2. animals w/o names might have worse outcome\n",
    "3. more adoption: neutered/ spayed ones, young, specific breed/ color\n",
    "\n",
    "A lot of encoding?"
   ]
  },
  {
   "cell_type": "code",
   "execution_count": null,
   "metadata": {},
   "outputs": [],
   "source": [
    "# missing a lot of names\n",
    "# animals without names > worse outcome?\n",
    "df.Name.isnull().sum()"
   ]
  },
  {
   "cell_type": "code",
   "execution_count": null,
   "metadata": {},
   "outputs": [],
   "source": [
    "# this works too lol\n",
    "check = df.columns[df.isnull().any()]\n",
    "check"
   ]
  },
  {
   "cell_type": "code",
   "execution_count": null,
   "metadata": {
    "scrolled": true
   },
   "outputs": [],
   "source": [
    "null_pd = prepare.report_col_with_null(df)"
   ]
  },
  {
   "cell_type": "code",
   "execution_count": null,
   "metadata": {},
   "outputs": [],
   "source": [
    "null_pd"
   ]
  },
  {
   "cell_type": "code",
   "execution_count": null,
   "metadata": {},
   "outputs": [],
   "source": [
    "pd.crosstab(df.AnimalType, df.OutcomeType).apply(lambda r: r/r.sum(), axis=1)"
   ]
  },
  {
   "cell_type": "code",
   "execution_count": null,
   "metadata": {},
   "outputs": [],
   "source": [
    "pd.crosstab(df.OutcomeType, df.AnimalType).apply(lambda r: r/r.sum(), axis=1)"
   ]
  },
  {
   "cell_type": "code",
   "execution_count": null,
   "metadata": {},
   "outputs": [],
   "source": [
    "df.replace(r'^\\s*$', np.nan, regex = True, inplace = True) "
   ]
  },
  {
   "cell_type": "code",
   "execution_count": null,
   "metadata": {},
   "outputs": [],
   "source": [
    "(df.DateTime.value_counts(sort = False)).plot()"
   ]
  },
  {
   "cell_type": "code",
   "execution_count": null,
   "metadata": {},
   "outputs": [],
   "source": []
  }
 ],
 "metadata": {
  "kernelspec": {
   "display_name": "Python 3",
   "language": "python",
   "name": "python3"
  },
  "language_info": {
   "codemirror_mode": {
    "name": "ipython",
    "version": 3
   },
   "file_extension": ".py",
   "mimetype": "text/x-python",
   "name": "python",
   "nbconvert_exporter": "python",
   "pygments_lexer": "ipython3",
   "version": "3.7.3"
  },
  "toc": {
   "base_numbering": 1,
   "nav_menu": {},
   "number_sections": true,
   "sideBar": true,
   "skip_h1_title": false,
   "title_cell": "Table of Contents",
   "title_sidebar": "Contents",
   "toc_cell": false,
   "toc_position": {},
   "toc_section_display": true,
   "toc_window_display": false
  },
  "varInspector": {
   "cols": {
    "lenName": 16,
    "lenType": 16,
    "lenVar": 40
   },
   "kernels_config": {
    "python": {
     "delete_cmd_postfix": "",
     "delete_cmd_prefix": "del ",
     "library": "var_list.py",
     "varRefreshCmd": "print(var_dic_list())"
    },
    "r": {
     "delete_cmd_postfix": ") ",
     "delete_cmd_prefix": "rm(",
     "library": "var_list.r",
     "varRefreshCmd": "cat(var_dic_list()) "
    }
   },
   "types_to_exclude": [
    "module",
    "function",
    "builtin_function_or_method",
    "instance",
    "_Feature"
   ],
   "window_display": false
  }
 },
 "nbformat": 4,
 "nbformat_minor": 2
}
